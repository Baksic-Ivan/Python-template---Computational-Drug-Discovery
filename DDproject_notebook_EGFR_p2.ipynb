{
 "cells": [
  {
   "attachments": {},
   "cell_type": "markdown",
   "id": "7ac88102",
   "metadata": {},
   "source": [
    "# PYTHON CODE SAMPLE PART 2 - EXPLORATORY DATA ANLYSIS\n",
    "\n",
    "In this part I will use Lipinski descriptors to explore the difference of druglikeness between compounds and I will perform exploratory data analysis based on those descriptors."
   ]
  },
  {
   "attachments": {},
   "cell_type": "markdown",
   "id": "eb2ee6bd",
   "metadata": {},
   "source": [
    "In this part conda and drkit packages are needed."
   ]
  },
  {
   "cell_type": "code",
   "execution_count": null,
   "id": "df7e55bf",
   "metadata": {},
   "outputs": [],
   "source": [
    "#! wget https://raw.githubusercontent.com/Baksic-Ivan/Python_template-Computational_Drug_Discovery/main/EGFR_bioactivity_data_curated.csv"
   ]
  },
  {
   "cell_type": "code",
   "execution_count": 1,
   "id": "49a56b34",
   "metadata": {},
   "outputs": [],
   "source": [
    "import pandas as pd"
   ]
  },
  {
   "cell_type": "code",
   "execution_count": 3,
   "id": "de0d11ed",
   "metadata": {},
   "outputs": [
    {
     "data": {
      "text/html": [
       "<div>\n",
       "<style scoped>\n",
       "    .dataframe tbody tr th:only-of-type {\n",
       "        vertical-align: middle;\n",
       "    }\n",
       "\n",
       "    .dataframe tbody tr th {\n",
       "        vertical-align: top;\n",
       "    }\n",
       "\n",
       "    .dataframe thead th {\n",
       "        text-align: right;\n",
       "    }\n",
       "</style>\n",
       "<table border=\"1\" class=\"dataframe\">\n",
       "  <thead>\n",
       "    <tr style=\"text-align: right;\">\n",
       "      <th></th>\n",
       "      <th>molecule_chembl_id</th>\n",
       "      <th>canonical_smiles</th>\n",
       "      <th>standard_value</th>\n",
       "      <th>class</th>\n",
       "    </tr>\n",
       "  </thead>\n",
       "  <tbody>\n",
       "    <tr>\n",
       "      <th>0</th>\n",
       "      <td>CHEMBL68920</td>\n",
       "      <td>Cc1cc(C)c(/C=C2\\C(=O)Nc3ncnc(Nc4ccc(F)c(Cl)c4)...</td>\n",
       "      <td>41.00</td>\n",
       "      <td>active</td>\n",
       "    </tr>\n",
       "    <tr>\n",
       "      <th>1</th>\n",
       "      <td>CHEMBL69960</td>\n",
       "      <td>Cc1cc(C(=O)N2CCOCC2)[nH]c1/C=C1\\C(=O)Nc2ncnc(N...</td>\n",
       "      <td>170.00</td>\n",
       "      <td>active</td>\n",
       "    </tr>\n",
       "    <tr>\n",
       "      <th>2</th>\n",
       "      <td>CHEMBL137635</td>\n",
       "      <td>CN(c1ccccc1)c1ncnc2ccc(N/N=N/Cc3ccccn3)cc12</td>\n",
       "      <td>9300.00</td>\n",
       "      <td>intermediate</td>\n",
       "    </tr>\n",
       "    <tr>\n",
       "      <th>3</th>\n",
       "      <td>CHEMBL306988</td>\n",
       "      <td>CC(=C(C#N)C#N)c1ccc(NC(=O)CCC(=O)O)cc1</td>\n",
       "      <td>500000.00</td>\n",
       "      <td>inactive</td>\n",
       "    </tr>\n",
       "    <tr>\n",
       "      <th>4</th>\n",
       "      <td>CHEMBL66879</td>\n",
       "      <td>O=C(O)/C=C/c1ccc(O)cc1</td>\n",
       "      <td>3000000.00</td>\n",
       "      <td>inactive</td>\n",
       "    </tr>\n",
       "    <tr>\n",
       "      <th>...</th>\n",
       "      <td>...</td>\n",
       "      <td>...</td>\n",
       "      <td>...</td>\n",
       "      <td>...</td>\n",
       "    </tr>\n",
       "    <tr>\n",
       "      <th>9013</th>\n",
       "      <td>CHEMBL4520788</td>\n",
       "      <td>CNCc1ccccc1-c1csc([C@H](C)Nc2nc(C)nc3cc(OC)c(O...</td>\n",
       "      <td>20.00</td>\n",
       "      <td>active</td>\n",
       "    </tr>\n",
       "    <tr>\n",
       "      <th>9014</th>\n",
       "      <td>CHEMBL1800685</td>\n",
       "      <td>O=C(O)c1cc(-c2ccc(C3CCNCC3)cc2)c2ccc(-c3ccc(C(...</td>\n",
       "      <td>4.59</td>\n",
       "      <td>active</td>\n",
       "    </tr>\n",
       "    <tr>\n",
       "      <th>9015</th>\n",
       "      <td>CHEMBL4088216</td>\n",
       "      <td>CN1C(=O)[C@@H](N2CCc3cn(Cc4ccccc4)nc3C2=O)COc2...</td>\n",
       "      <td>1000.00</td>\n",
       "      <td>active</td>\n",
       "    </tr>\n",
       "    <tr>\n",
       "      <th>9016</th>\n",
       "      <td>CHEMBL4549667</td>\n",
       "      <td>CN1C(=O)[C@@H](N2CCc3c(nn(Cc4ccccc4)c3Br)C2=O)...</td>\n",
       "      <td>1000.00</td>\n",
       "      <td>active</td>\n",
       "    </tr>\n",
       "    <tr>\n",
       "      <th>9017</th>\n",
       "      <td>CHEMBL4097778</td>\n",
       "      <td>CN1C(=O)[C@@H](N2CCc3cn(CC4CCS(=O)(=O)CC4)nc3C...</td>\n",
       "      <td>1000.00</td>\n",
       "      <td>active</td>\n",
       "    </tr>\n",
       "  </tbody>\n",
       "</table>\n",
       "<p>9018 rows × 4 columns</p>\n",
       "</div>"
      ],
      "text/plain": [
       "     molecule_chembl_id                                   canonical_smiles  \\\n",
       "0           CHEMBL68920  Cc1cc(C)c(/C=C2\\C(=O)Nc3ncnc(Nc4ccc(F)c(Cl)c4)...   \n",
       "1           CHEMBL69960  Cc1cc(C(=O)N2CCOCC2)[nH]c1/C=C1\\C(=O)Nc2ncnc(N...   \n",
       "2          CHEMBL137635        CN(c1ccccc1)c1ncnc2ccc(N/N=N/Cc3ccccn3)cc12   \n",
       "3          CHEMBL306988             CC(=C(C#N)C#N)c1ccc(NC(=O)CCC(=O)O)cc1   \n",
       "4           CHEMBL66879                             O=C(O)/C=C/c1ccc(O)cc1   \n",
       "...                 ...                                                ...   \n",
       "9013      CHEMBL4520788  CNCc1ccccc1-c1csc([C@H](C)Nc2nc(C)nc3cc(OC)c(O...   \n",
       "9014      CHEMBL1800685  O=C(O)c1cc(-c2ccc(C3CCNCC3)cc2)c2ccc(-c3ccc(C(...   \n",
       "9015      CHEMBL4088216  CN1C(=O)[C@@H](N2CCc3cn(Cc4ccccc4)nc3C2=O)COc2...   \n",
       "9016      CHEMBL4549667  CN1C(=O)[C@@H](N2CCc3c(nn(Cc4ccccc4)c3Br)C2=O)...   \n",
       "9017      CHEMBL4097778  CN1C(=O)[C@@H](N2CCc3cn(CC4CCS(=O)(=O)CC4)nc3C...   \n",
       "\n",
       "      standard_value         class  \n",
       "0              41.00        active  \n",
       "1             170.00        active  \n",
       "2            9300.00  intermediate  \n",
       "3          500000.00      inactive  \n",
       "4         3000000.00      inactive  \n",
       "...              ...           ...  \n",
       "9013           20.00        active  \n",
       "9014            4.59        active  \n",
       "9015         1000.00        active  \n",
       "9016         1000.00        active  \n",
       "9017         1000.00        active  \n",
       "\n",
       "[9018 rows x 4 columns]"
      ]
     },
     "execution_count": 3,
     "metadata": {},
     "output_type": "execute_result"
    }
   ],
   "source": [
    "df = pd.read_csv('EGFR_bioactivity_data_curated.csv')\n",
    "df"
   ]
  },
  {
   "attachments": {},
   "cell_type": "markdown",
   "id": "cd6778f3",
   "metadata": {},
   "source": [
    "I split the elements of canonical_smiles into a list based on period('.') separator since period represents disconnections in SMILES format. Next, I took the longest structure after splitting and asigned it to the belonging molecule. This way only the longest SMILES will be used in Lipinski descriptor calculation."
   ]
  },
  {
   "cell_type": "code",
   "execution_count": 6,
   "id": "2078a7b3",
   "metadata": {},
   "outputs": [
    {
     "data": {
      "text/html": [
       "<div>\n",
       "<style scoped>\n",
       "    .dataframe tbody tr th:only-of-type {\n",
       "        vertical-align: middle;\n",
       "    }\n",
       "\n",
       "    .dataframe tbody tr th {\n",
       "        vertical-align: top;\n",
       "    }\n",
       "\n",
       "    .dataframe thead th {\n",
       "        text-align: right;\n",
       "    }\n",
       "</style>\n",
       "<table border=\"1\" class=\"dataframe\">\n",
       "  <thead>\n",
       "    <tr style=\"text-align: right;\">\n",
       "      <th></th>\n",
       "      <th>molecule_chembl_id</th>\n",
       "      <th>standard_value</th>\n",
       "      <th>class</th>\n",
       "      <th>canonical_smiles</th>\n",
       "    </tr>\n",
       "  </thead>\n",
       "  <tbody>\n",
       "    <tr>\n",
       "      <th>0</th>\n",
       "      <td>CHEMBL68920</td>\n",
       "      <td>41.00</td>\n",
       "      <td>active</td>\n",
       "      <td>Cc1cc(C)c(/C=C2\\C(=O)Nc3ncnc(Nc4ccc(F)c(Cl)c4)...</td>\n",
       "    </tr>\n",
       "    <tr>\n",
       "      <th>1</th>\n",
       "      <td>CHEMBL69960</td>\n",
       "      <td>170.00</td>\n",
       "      <td>active</td>\n",
       "      <td>Cc1cc(C(=O)N2CCOCC2)[nH]c1/C=C1\\C(=O)Nc2ncnc(N...</td>\n",
       "    </tr>\n",
       "    <tr>\n",
       "      <th>2</th>\n",
       "      <td>CHEMBL137635</td>\n",
       "      <td>9300.00</td>\n",
       "      <td>intermediate</td>\n",
       "      <td>CN(c1ccccc1)c1ncnc2ccc(N/N=N/Cc3ccccn3)cc12</td>\n",
       "    </tr>\n",
       "    <tr>\n",
       "      <th>3</th>\n",
       "      <td>CHEMBL306988</td>\n",
       "      <td>500000.00</td>\n",
       "      <td>inactive</td>\n",
       "      <td>CC(=C(C#N)C#N)c1ccc(NC(=O)CCC(=O)O)cc1</td>\n",
       "    </tr>\n",
       "    <tr>\n",
       "      <th>4</th>\n",
       "      <td>CHEMBL66879</td>\n",
       "      <td>3000000.00</td>\n",
       "      <td>inactive</td>\n",
       "      <td>O=C(O)/C=C/c1ccc(O)cc1</td>\n",
       "    </tr>\n",
       "    <tr>\n",
       "      <th>...</th>\n",
       "      <td>...</td>\n",
       "      <td>...</td>\n",
       "      <td>...</td>\n",
       "      <td>...</td>\n",
       "    </tr>\n",
       "    <tr>\n",
       "      <th>9013</th>\n",
       "      <td>CHEMBL4520788</td>\n",
       "      <td>20.00</td>\n",
       "      <td>active</td>\n",
       "      <td>CNCc1ccccc1-c1csc([C@H](C)Nc2nc(C)nc3cc(OC)c(O...</td>\n",
       "    </tr>\n",
       "    <tr>\n",
       "      <th>9014</th>\n",
       "      <td>CHEMBL1800685</td>\n",
       "      <td>4.59</td>\n",
       "      <td>active</td>\n",
       "      <td>O=C(O)c1cc(-c2ccc(C3CCNCC3)cc2)c2ccc(-c3ccc(C(...</td>\n",
       "    </tr>\n",
       "    <tr>\n",
       "      <th>9015</th>\n",
       "      <td>CHEMBL4088216</td>\n",
       "      <td>1000.00</td>\n",
       "      <td>active</td>\n",
       "      <td>CN1C(=O)[C@@H](N2CCc3cn(Cc4ccccc4)nc3C2=O)COc2...</td>\n",
       "    </tr>\n",
       "    <tr>\n",
       "      <th>9016</th>\n",
       "      <td>CHEMBL4549667</td>\n",
       "      <td>1000.00</td>\n",
       "      <td>active</td>\n",
       "      <td>CN1C(=O)[C@@H](N2CCc3c(nn(Cc4ccccc4)c3Br)C2=O)...</td>\n",
       "    </tr>\n",
       "    <tr>\n",
       "      <th>9017</th>\n",
       "      <td>CHEMBL4097778</td>\n",
       "      <td>1000.00</td>\n",
       "      <td>active</td>\n",
       "      <td>CN1C(=O)[C@@H](N2CCc3cn(CC4CCS(=O)(=O)CC4)nc3C...</td>\n",
       "    </tr>\n",
       "  </tbody>\n",
       "</table>\n",
       "<p>9018 rows × 4 columns</p>\n",
       "</div>"
      ],
      "text/plain": [
       "     molecule_chembl_id  standard_value         class  \\\n",
       "0           CHEMBL68920           41.00        active   \n",
       "1           CHEMBL69960          170.00        active   \n",
       "2          CHEMBL137635         9300.00  intermediate   \n",
       "3          CHEMBL306988       500000.00      inactive   \n",
       "4           CHEMBL66879      3000000.00      inactive   \n",
       "...                 ...             ...           ...   \n",
       "9013      CHEMBL4520788           20.00        active   \n",
       "9014      CHEMBL1800685            4.59        active   \n",
       "9015      CHEMBL4088216         1000.00        active   \n",
       "9016      CHEMBL4549667         1000.00        active   \n",
       "9017      CHEMBL4097778         1000.00        active   \n",
       "\n",
       "                                       canonical_smiles  \n",
       "0     Cc1cc(C)c(/C=C2\\C(=O)Nc3ncnc(Nc4ccc(F)c(Cl)c4)...  \n",
       "1     Cc1cc(C(=O)N2CCOCC2)[nH]c1/C=C1\\C(=O)Nc2ncnc(N...  \n",
       "2           CN(c1ccccc1)c1ncnc2ccc(N/N=N/Cc3ccccn3)cc12  \n",
       "3                CC(=C(C#N)C#N)c1ccc(NC(=O)CCC(=O)O)cc1  \n",
       "4                                O=C(O)/C=C/c1ccc(O)cc1  \n",
       "...                                                 ...  \n",
       "9013  CNCc1ccccc1-c1csc([C@H](C)Nc2nc(C)nc3cc(OC)c(O...  \n",
       "9014  O=C(O)c1cc(-c2ccc(C3CCNCC3)cc2)c2ccc(-c3ccc(C(...  \n",
       "9015  CN1C(=O)[C@@H](N2CCc3cn(Cc4ccccc4)nc3C2=O)COc2...  \n",
       "9016  CN1C(=O)[C@@H](N2CCc3c(nn(Cc4ccccc4)c3Br)C2=O)...  \n",
       "9017  CN1C(=O)[C@@H](N2CCc3cn(CC4CCS(=O)(=O)CC4)nc3C...  \n",
       "\n",
       "[9018 rows x 4 columns]"
      ]
     },
     "execution_count": 6,
     "metadata": {},
     "output_type": "execute_result"
    }
   ],
   "source": [
    "df_no_smiles = df.drop(columns = 'canonical_smiles')\n",
    "smiles = []\n",
    "\n",
    "for i in df.canonical_smiles.tolist():\n",
    "    single_smile = str(i).split('.')\n",
    "    longest_smile = max(single_smile, key = len)\n",
    "    smiles.append(longest_smile)\n",
    "\n",
    "smiles = pd.Series(smiles, name = 'canonical_smiles')\n",
    "\n",
    "df_longest_smiles = pd.concat([df_no_smiles, smiles], axis=1)\n",
    "df_longest_smiles\n"
   ]
  },
  {
   "attachments": {},
   "cell_type": "markdown",
   "id": "2902e619",
   "metadata": {},
   "source": [
    "## Lipinski descriptors calculation\n",
    "I used a set of rule-of-thumb evaluations called Lipinski decriptors in order to explore the difference of druglikeness between active and inactive compounds."
   ]
  },
  {
   "cell_type": "code",
   "execution_count": 7,
   "id": "1c62aaae",
   "metadata": {},
   "outputs": [],
   "source": [
    "import numpy as np\n",
    "from rdkit import Chem\n",
    "from rdkit.Chem import Descriptors, Lipinski"
   ]
  },
  {
   "cell_type": "code",
   "execution_count": 13,
   "id": "fe305bf3",
   "metadata": {},
   "outputs": [],
   "source": [
    "def lipinski(smiles, verbose = False):\n",
    "    rows = []\n",
    "    \n",
    "    for elem in smiles:\n",
    "        mol = Chem.MolFromSmiles(elem)\n",
    "        desc_MolWt = Descriptors.MolWt(mol)\n",
    "        desc_MolLogP = Descriptors.MolLogP(mol)\n",
    "        desc_NumHDonors = Lipinski.NumHDonors(mol)\n",
    "        desc_NumHAcceptors = Lipinski.NumHAcceptors(mol)\n",
    "\n",
    "        rows.append([desc_MolWt, desc_MolLogP, desc_NumHDonors, desc_NumHAcceptors])\n",
    "    \n",
    "    columnNames=[\"MW\",\"LogP\",\"NumHDonors\",\"NumHAcceptors\"]\n",
    "    descriptors = pd.DataFrame(rows, columns = columnNames)\n",
    "\n",
    "    return descriptors\n",
    "\n",
    "\n"
   ]
  },
  {
   "cell_type": "code",
   "execution_count": 14,
   "id": "75107ef6",
   "metadata": {},
   "outputs": [
    {
     "data": {
      "text/html": [
       "<div>\n",
       "<style scoped>\n",
       "    .dataframe tbody tr th:only-of-type {\n",
       "        vertical-align: middle;\n",
       "    }\n",
       "\n",
       "    .dataframe tbody tr th {\n",
       "        vertical-align: top;\n",
       "    }\n",
       "\n",
       "    .dataframe thead th {\n",
       "        text-align: right;\n",
       "    }\n",
       "</style>\n",
       "<table border=\"1\" class=\"dataframe\">\n",
       "  <thead>\n",
       "    <tr style=\"text-align: right;\">\n",
       "      <th></th>\n",
       "      <th>MW</th>\n",
       "      <th>LogP</th>\n",
       "      <th>NumHDonors</th>\n",
       "      <th>NumHAcceptors</th>\n",
       "    </tr>\n",
       "  </thead>\n",
       "  <tbody>\n",
       "    <tr>\n",
       "      <th>0</th>\n",
       "      <td>383.814</td>\n",
       "      <td>4.45034</td>\n",
       "      <td>3</td>\n",
       "      <td>4</td>\n",
       "    </tr>\n",
       "    <tr>\n",
       "      <th>1</th>\n",
       "      <td>482.903</td>\n",
       "      <td>3.61432</td>\n",
       "      <td>3</td>\n",
       "      <td>6</td>\n",
       "    </tr>\n",
       "    <tr>\n",
       "      <th>2</th>\n",
       "      <td>369.432</td>\n",
       "      <td>4.77200</td>\n",
       "      <td>1</td>\n",
       "      <td>6</td>\n",
       "    </tr>\n",
       "    <tr>\n",
       "      <th>3</th>\n",
       "      <td>283.287</td>\n",
       "      <td>2.31056</td>\n",
       "      <td>2</td>\n",
       "      <td>4</td>\n",
       "    </tr>\n",
       "    <tr>\n",
       "      <th>4</th>\n",
       "      <td>164.160</td>\n",
       "      <td>1.49000</td>\n",
       "      <td>2</td>\n",
       "      <td>2</td>\n",
       "    </tr>\n",
       "    <tr>\n",
       "      <th>...</th>\n",
       "      <td>...</td>\n",
       "      <td>...</td>\n",
       "      <td>...</td>\n",
       "      <td>...</td>\n",
       "    </tr>\n",
       "    <tr>\n",
       "      <th>9013</th>\n",
       "      <td>448.592</td>\n",
       "      <td>5.57642</td>\n",
       "      <td>2</td>\n",
       "      <td>7</td>\n",
       "    </tr>\n",
       "    <tr>\n",
       "      <th>9014</th>\n",
       "      <td>475.510</td>\n",
       "      <td>7.35780</td>\n",
       "      <td>2</td>\n",
       "      <td>2</td>\n",
       "    </tr>\n",
       "    <tr>\n",
       "      <th>9015</th>\n",
       "      <td>402.454</td>\n",
       "      <td>2.35370</td>\n",
       "      <td>0</td>\n",
       "      <td>5</td>\n",
       "    </tr>\n",
       "    <tr>\n",
       "      <th>9016</th>\n",
       "      <td>481.350</td>\n",
       "      <td>3.11620</td>\n",
       "      <td>0</td>\n",
       "      <td>5</td>\n",
       "    </tr>\n",
       "    <tr>\n",
       "      <th>9017</th>\n",
       "      <td>458.540</td>\n",
       "      <td>1.13020</td>\n",
       "      <td>0</td>\n",
       "      <td>7</td>\n",
       "    </tr>\n",
       "  </tbody>\n",
       "</table>\n",
       "<p>9018 rows × 4 columns</p>\n",
       "</div>"
      ],
      "text/plain": [
       "           MW     LogP  NumHDonors  NumHAcceptors\n",
       "0     383.814  4.45034           3              4\n",
       "1     482.903  3.61432           3              6\n",
       "2     369.432  4.77200           1              6\n",
       "3     283.287  2.31056           2              4\n",
       "4     164.160  1.49000           2              2\n",
       "...       ...      ...         ...            ...\n",
       "9013  448.592  5.57642           2              7\n",
       "9014  475.510  7.35780           2              2\n",
       "9015  402.454  2.35370           0              5\n",
       "9016  481.350  3.11620           0              5\n",
       "9017  458.540  1.13020           0              7\n",
       "\n",
       "[9018 rows x 4 columns]"
      ]
     },
     "execution_count": 14,
     "metadata": {},
     "output_type": "execute_result"
    }
   ],
   "source": [
    "df_lipinski = lipinski(df_longest_smiles.canonical_smiles)\n",
    "df_lipinski"
   ]
  },
  {
   "cell_type": "code",
   "execution_count": 42,
   "id": "596c65de",
   "metadata": {},
   "outputs": [
    {
     "data": {
      "text/html": [
       "<div>\n",
       "<style scoped>\n",
       "    .dataframe tbody tr th:only-of-type {\n",
       "        vertical-align: middle;\n",
       "    }\n",
       "\n",
       "    .dataframe tbody tr th {\n",
       "        vertical-align: top;\n",
       "    }\n",
       "\n",
       "    .dataframe thead th {\n",
       "        text-align: right;\n",
       "    }\n",
       "</style>\n",
       "<table border=\"1\" class=\"dataframe\">\n",
       "  <thead>\n",
       "    <tr style=\"text-align: right;\">\n",
       "      <th></th>\n",
       "      <th>molecule_chembl_id</th>\n",
       "      <th>canonical_smiles</th>\n",
       "      <th>standard_value</th>\n",
       "      <th>class</th>\n",
       "      <th>MW</th>\n",
       "      <th>LogP</th>\n",
       "      <th>NumHDonors</th>\n",
       "      <th>NumHAcceptors</th>\n",
       "    </tr>\n",
       "  </thead>\n",
       "  <tbody>\n",
       "    <tr>\n",
       "      <th>0</th>\n",
       "      <td>CHEMBL68920</td>\n",
       "      <td>Cc1cc(C)c(/C=C2\\C(=O)Nc3ncnc(Nc4ccc(F)c(Cl)c4)...</td>\n",
       "      <td>41.00</td>\n",
       "      <td>active</td>\n",
       "      <td>383.814</td>\n",
       "      <td>4.45034</td>\n",
       "      <td>3</td>\n",
       "      <td>4</td>\n",
       "    </tr>\n",
       "    <tr>\n",
       "      <th>1</th>\n",
       "      <td>CHEMBL69960</td>\n",
       "      <td>Cc1cc(C(=O)N2CCOCC2)[nH]c1/C=C1\\C(=O)Nc2ncnc(N...</td>\n",
       "      <td>170.00</td>\n",
       "      <td>active</td>\n",
       "      <td>482.903</td>\n",
       "      <td>3.61432</td>\n",
       "      <td>3</td>\n",
       "      <td>6</td>\n",
       "    </tr>\n",
       "    <tr>\n",
       "      <th>2</th>\n",
       "      <td>CHEMBL137635</td>\n",
       "      <td>CN(c1ccccc1)c1ncnc2ccc(N/N=N/Cc3ccccn3)cc12</td>\n",
       "      <td>9300.00</td>\n",
       "      <td>intermediate</td>\n",
       "      <td>369.432</td>\n",
       "      <td>4.77200</td>\n",
       "      <td>1</td>\n",
       "      <td>6</td>\n",
       "    </tr>\n",
       "    <tr>\n",
       "      <th>3</th>\n",
       "      <td>CHEMBL306988</td>\n",
       "      <td>CC(=C(C#N)C#N)c1ccc(NC(=O)CCC(=O)O)cc1</td>\n",
       "      <td>500000.00</td>\n",
       "      <td>inactive</td>\n",
       "      <td>283.287</td>\n",
       "      <td>2.31056</td>\n",
       "      <td>2</td>\n",
       "      <td>4</td>\n",
       "    </tr>\n",
       "    <tr>\n",
       "      <th>4</th>\n",
       "      <td>CHEMBL66879</td>\n",
       "      <td>O=C(O)/C=C/c1ccc(O)cc1</td>\n",
       "      <td>3000000.00</td>\n",
       "      <td>inactive</td>\n",
       "      <td>164.160</td>\n",
       "      <td>1.49000</td>\n",
       "      <td>2</td>\n",
       "      <td>2</td>\n",
       "    </tr>\n",
       "    <tr>\n",
       "      <th>...</th>\n",
       "      <td>...</td>\n",
       "      <td>...</td>\n",
       "      <td>...</td>\n",
       "      <td>...</td>\n",
       "      <td>...</td>\n",
       "      <td>...</td>\n",
       "      <td>...</td>\n",
       "      <td>...</td>\n",
       "    </tr>\n",
       "    <tr>\n",
       "      <th>9013</th>\n",
       "      <td>CHEMBL4520788</td>\n",
       "      <td>CNCc1ccccc1-c1csc([C@H](C)Nc2nc(C)nc3cc(OC)c(O...</td>\n",
       "      <td>20.00</td>\n",
       "      <td>active</td>\n",
       "      <td>448.592</td>\n",
       "      <td>5.57642</td>\n",
       "      <td>2</td>\n",
       "      <td>7</td>\n",
       "    </tr>\n",
       "    <tr>\n",
       "      <th>9014</th>\n",
       "      <td>CHEMBL1800685</td>\n",
       "      <td>O=C(O)c1cc(-c2ccc(C3CCNCC3)cc2)c2ccc(-c3ccc(C(...</td>\n",
       "      <td>4.59</td>\n",
       "      <td>active</td>\n",
       "      <td>475.510</td>\n",
       "      <td>7.35780</td>\n",
       "      <td>2</td>\n",
       "      <td>2</td>\n",
       "    </tr>\n",
       "    <tr>\n",
       "      <th>9015</th>\n",
       "      <td>CHEMBL4088216</td>\n",
       "      <td>CN1C(=O)[C@@H](N2CCc3cn(Cc4ccccc4)nc3C2=O)COc2...</td>\n",
       "      <td>1000.00</td>\n",
       "      <td>active</td>\n",
       "      <td>402.454</td>\n",
       "      <td>2.35370</td>\n",
       "      <td>0</td>\n",
       "      <td>5</td>\n",
       "    </tr>\n",
       "    <tr>\n",
       "      <th>9016</th>\n",
       "      <td>CHEMBL4549667</td>\n",
       "      <td>CN1C(=O)[C@@H](N2CCc3c(nn(Cc4ccccc4)c3Br)C2=O)...</td>\n",
       "      <td>1000.00</td>\n",
       "      <td>active</td>\n",
       "      <td>481.350</td>\n",
       "      <td>3.11620</td>\n",
       "      <td>0</td>\n",
       "      <td>5</td>\n",
       "    </tr>\n",
       "    <tr>\n",
       "      <th>9017</th>\n",
       "      <td>CHEMBL4097778</td>\n",
       "      <td>CN1C(=O)[C@@H](N2CCc3cn(CC4CCS(=O)(=O)CC4)nc3C...</td>\n",
       "      <td>1000.00</td>\n",
       "      <td>active</td>\n",
       "      <td>458.540</td>\n",
       "      <td>1.13020</td>\n",
       "      <td>0</td>\n",
       "      <td>7</td>\n",
       "    </tr>\n",
       "  </tbody>\n",
       "</table>\n",
       "<p>9018 rows × 8 columns</p>\n",
       "</div>"
      ],
      "text/plain": [
       "     molecule_chembl_id                                   canonical_smiles  \\\n",
       "0           CHEMBL68920  Cc1cc(C)c(/C=C2\\C(=O)Nc3ncnc(Nc4ccc(F)c(Cl)c4)...   \n",
       "1           CHEMBL69960  Cc1cc(C(=O)N2CCOCC2)[nH]c1/C=C1\\C(=O)Nc2ncnc(N...   \n",
       "2          CHEMBL137635        CN(c1ccccc1)c1ncnc2ccc(N/N=N/Cc3ccccn3)cc12   \n",
       "3          CHEMBL306988             CC(=C(C#N)C#N)c1ccc(NC(=O)CCC(=O)O)cc1   \n",
       "4           CHEMBL66879                             O=C(O)/C=C/c1ccc(O)cc1   \n",
       "...                 ...                                                ...   \n",
       "9013      CHEMBL4520788  CNCc1ccccc1-c1csc([C@H](C)Nc2nc(C)nc3cc(OC)c(O...   \n",
       "9014      CHEMBL1800685  O=C(O)c1cc(-c2ccc(C3CCNCC3)cc2)c2ccc(-c3ccc(C(...   \n",
       "9015      CHEMBL4088216  CN1C(=O)[C@@H](N2CCc3cn(Cc4ccccc4)nc3C2=O)COc2...   \n",
       "9016      CHEMBL4549667  CN1C(=O)[C@@H](N2CCc3c(nn(Cc4ccccc4)c3Br)C2=O)...   \n",
       "9017      CHEMBL4097778  CN1C(=O)[C@@H](N2CCc3cn(CC4CCS(=O)(=O)CC4)nc3C...   \n",
       "\n",
       "      standard_value         class       MW     LogP  NumHDonors  \\\n",
       "0              41.00        active  383.814  4.45034           3   \n",
       "1             170.00        active  482.903  3.61432           3   \n",
       "2            9300.00  intermediate  369.432  4.77200           1   \n",
       "3          500000.00      inactive  283.287  2.31056           2   \n",
       "4         3000000.00      inactive  164.160  1.49000           2   \n",
       "...              ...           ...      ...      ...         ...   \n",
       "9013           20.00        active  448.592  5.57642           2   \n",
       "9014            4.59        active  475.510  7.35780           2   \n",
       "9015         1000.00        active  402.454  2.35370           0   \n",
       "9016         1000.00        active  481.350  3.11620           0   \n",
       "9017         1000.00        active  458.540  1.13020           0   \n",
       "\n",
       "      NumHAcceptors  \n",
       "0                 4  \n",
       "1                 6  \n",
       "2                 6  \n",
       "3                 4  \n",
       "4                 2  \n",
       "...             ...  \n",
       "9013              7  \n",
       "9014              2  \n",
       "9015              5  \n",
       "9016              5  \n",
       "9017              7  \n",
       "\n",
       "[9018 rows x 8 columns]"
      ]
     },
     "execution_count": 42,
     "metadata": {},
     "output_type": "execute_result"
    }
   ],
   "source": [
    "df_combined = pd.concat([df, df_lipinski], axis=1)\n",
    "df_combined"
   ]
  },
  {
   "attachments": {},
   "cell_type": "markdown",
   "id": "bcbe60e1",
   "metadata": {},
   "source": [
    "## Converting IC50 to pIC50\n"
   ]
  },
  {
   "attachments": {},
   "cell_type": "markdown",
   "id": "b804b7ab",
   "metadata": {},
   "source": [
    "Plotting IC50"
   ]
  },
  {
   "cell_type": "code",
   "execution_count": 48,
   "id": "3d20c2a5",
   "metadata": {},
   "outputs": [
    {
     "data": {
      "text/plain": [
       "[<matplotlib.lines.Line2D at 0x7fad12d9ff40>]"
      ]
     },
     "execution_count": 48,
     "metadata": {},
     "output_type": "execute_result"
    },
    {
     "data": {
      "image/png": "[encoded data removed]",
      "text/plain": [
       "<Figure size 640x480 with 1 Axes>"
      ]
     },
     "metadata": {},
     "output_type": "display_data"
    }
   ],
   "source": [
    "import matplotlib.pyplot as plt\n",
    "plt.plot(df_combined.index, sorted(df_combined.standard_value))"
   ]
  },
  {
   "attachments": {},
   "cell_type": "markdown",
   "id": "ccd53f7a",
   "metadata": {},
   "source": [
    "From the plot above we can see that IC50 value grows exponentially, therefore I converted IC50 to pIC 50 to make it more linear."
   ]
  },
  {
   "attachments": {},
   "cell_type": "markdown",
   "id": "ffe0ba1e",
   "metadata": {},
   "source": [
    "Since this dataset did not contain any IC50 values greated than 100,000,000, I skipped the normalization process."
   ]
  },
  {
   "cell_type": "code",
   "execution_count": 45,
   "id": "3d5def9f",
   "metadata": {},
   "outputs": [
    {
     "data": {
      "text/plain": [
       "count    9.018000e+03\n",
       "mean     3.052123e+04\n",
       "std      6.791141e+05\n",
       "min      3.000000e-03\n",
       "25%      3.300000e+01\n",
       "50%      3.600000e+02\n",
       "75%      6.700000e+03\n",
       "max      5.500000e+07\n",
       "Name: standard_value, dtype: float64"
      ]
     },
     "execution_count": 45,
     "metadata": {},
     "output_type": "execute_result"
    }
   ],
   "source": [
    "df_combined.standard_value.describe()"
   ]
  },
  {
   "attachments": {},
   "cell_type": "markdown",
   "id": "cc6a5e0d",
   "metadata": {},
   "source": [
    "But in the case there were any, I would converted IC50 values greater than 100,000,000 to 100,000,000 since future conversion from nM values to M values would turn positive logarithmic value to negative using the following code:"
   ]
  },
  {
   "cell_type": "code",
   "execution_count": 38,
   "id": "e861b39a",
   "metadata": {},
   "outputs": [],
   "source": [
    "# data normalization\n",
    "def norm_value(input):\n",
    "    norm = []\n",
    "\n",
    "    for i in input['standard_value']:\n",
    "        if i > 100000000:\n",
    "          i = 100000000\n",
    "        norm.append(i)\n",
    "\n",
    "    input['standard_value_norm'] = norm\n",
    "    x = input.drop('standard_value', 1)\n",
    "        \n",
    "    return x\n",
    "\n",
    "import numpy as np\n",
    "\n",
    "# pIC50 conversion on normalised data\n",
    "def pIC50(input):\n",
    "    pIC50 = []\n",
    "\n",
    "    for i in input['standard_value_norm']:\n",
    "        molar = i*(10**-9) # Converts nM to M\n",
    "        pIC50.append(-np.log10(molar))\n",
    "\n",
    "    input['pIC50'] = pIC50\n",
    "    x = input.drop('standard_value_norm', 1)\n",
    "        \n",
    "    return x"
   ]
  },
  {
   "cell_type": "code",
   "execution_count": 46,
   "id": "f73abca6",
   "metadata": {},
   "outputs": [],
   "source": [
    "import numpy as np\n",
    "\n",
    "def pIC50(input):\n",
    "    pIC50 = []\n",
    "\n",
    "    for i in input['standard_value']:\n",
    "        # convert nM to M\n",
    "        molar = i*(10**-9) \n",
    "        pIC50.append(-np.log10(molar))\n",
    "\n",
    "    input['pIC50'] = pIC50\n",
    "    x = input.drop('standard_value', 1)\n",
    "        \n",
    "    return x"
   ]
  },
  {
   "cell_type": "code",
   "execution_count": 47,
   "id": "6f65795d",
   "metadata": {},
   "outputs": [
    {
     "name": "stderr",
     "output_type": "stream",
     "text": [
      "/tmp/ipykernel_4818/712163619.py:11: FutureWarning: In a future version of pandas all arguments of DataFrame.drop except for the argument 'labels' will be keyword-only.\n",
      "  x = input.drop('standard_value', 1)\n"
     ]
    },
    {
     "data": {
      "text/html": [
       "<div>\n",
       "<style scoped>\n",
       "    .dataframe tbody tr th:only-of-type {\n",
       "        vertical-align: middle;\n",
       "    }\n",
       "\n",
       "    .dataframe tbody tr th {\n",
       "        vertical-align: top;\n",
       "    }\n",
       "\n",
       "    .dataframe thead th {\n",
       "        text-align: right;\n",
       "    }\n",
       "</style>\n",
       "<table border=\"1\" class=\"dataframe\">\n",
       "  <thead>\n",
       "    <tr style=\"text-align: right;\">\n",
       "      <th></th>\n",
       "      <th>molecule_chembl_id</th>\n",
       "      <th>canonical_smiles</th>\n",
       "      <th>class</th>\n",
       "      <th>MW</th>\n",
       "      <th>LogP</th>\n",
       "      <th>NumHDonors</th>\n",
       "      <th>NumHAcceptors</th>\n",
       "      <th>pIC50</th>\n",
       "    </tr>\n",
       "  </thead>\n",
       "  <tbody>\n",
       "    <tr>\n",
       "      <th>0</th>\n",
       "      <td>CHEMBL68920</td>\n",
       "      <td>Cc1cc(C)c(/C=C2\\C(=O)Nc3ncnc(Nc4ccc(F)c(Cl)c4)...</td>\n",
       "      <td>active</td>\n",
       "      <td>383.814</td>\n",
       "      <td>4.45034</td>\n",
       "      <td>3</td>\n",
       "      <td>4</td>\n",
       "      <td>7.387216</td>\n",
       "    </tr>\n",
       "    <tr>\n",
       "      <th>1</th>\n",
       "      <td>CHEMBL69960</td>\n",
       "      <td>Cc1cc(C(=O)N2CCOCC2)[nH]c1/C=C1\\C(=O)Nc2ncnc(N...</td>\n",
       "      <td>active</td>\n",
       "      <td>482.903</td>\n",
       "      <td>3.61432</td>\n",
       "      <td>3</td>\n",
       "      <td>6</td>\n",
       "      <td>6.769551</td>\n",
       "    </tr>\n",
       "    <tr>\n",
       "      <th>2</th>\n",
       "      <td>CHEMBL137635</td>\n",
       "      <td>CN(c1ccccc1)c1ncnc2ccc(N/N=N/Cc3ccccn3)cc12</td>\n",
       "      <td>intermediate</td>\n",
       "      <td>369.432</td>\n",
       "      <td>4.77200</td>\n",
       "      <td>1</td>\n",
       "      <td>6</td>\n",
       "      <td>5.031517</td>\n",
       "    </tr>\n",
       "    <tr>\n",
       "      <th>3</th>\n",
       "      <td>CHEMBL306988</td>\n",
       "      <td>CC(=C(C#N)C#N)c1ccc(NC(=O)CCC(=O)O)cc1</td>\n",
       "      <td>inactive</td>\n",
       "      <td>283.287</td>\n",
       "      <td>2.31056</td>\n",
       "      <td>2</td>\n",
       "      <td>4</td>\n",
       "      <td>3.301030</td>\n",
       "    </tr>\n",
       "    <tr>\n",
       "      <th>4</th>\n",
       "      <td>CHEMBL66879</td>\n",
       "      <td>O=C(O)/C=C/c1ccc(O)cc1</td>\n",
       "      <td>inactive</td>\n",
       "      <td>164.160</td>\n",
       "      <td>1.49000</td>\n",
       "      <td>2</td>\n",
       "      <td>2</td>\n",
       "      <td>2.522879</td>\n",
       "    </tr>\n",
       "    <tr>\n",
       "      <th>...</th>\n",
       "      <td>...</td>\n",
       "      <td>...</td>\n",
       "      <td>...</td>\n",
       "      <td>...</td>\n",
       "      <td>...</td>\n",
       "      <td>...</td>\n",
       "      <td>...</td>\n",
       "      <td>...</td>\n",
       "    </tr>\n",
       "    <tr>\n",
       "      <th>9013</th>\n",
       "      <td>CHEMBL4520788</td>\n",
       "      <td>CNCc1ccccc1-c1csc([C@H](C)Nc2nc(C)nc3cc(OC)c(O...</td>\n",
       "      <td>active</td>\n",
       "      <td>448.592</td>\n",
       "      <td>5.57642</td>\n",
       "      <td>2</td>\n",
       "      <td>7</td>\n",
       "      <td>7.698970</td>\n",
       "    </tr>\n",
       "    <tr>\n",
       "      <th>9014</th>\n",
       "      <td>CHEMBL1800685</td>\n",
       "      <td>O=C(O)c1cc(-c2ccc(C3CCNCC3)cc2)c2ccc(-c3ccc(C(...</td>\n",
       "      <td>active</td>\n",
       "      <td>475.510</td>\n",
       "      <td>7.35780</td>\n",
       "      <td>2</td>\n",
       "      <td>2</td>\n",
       "      <td>8.338187</td>\n",
       "    </tr>\n",
       "    <tr>\n",
       "      <th>9015</th>\n",
       "      <td>CHEMBL4088216</td>\n",
       "      <td>CN1C(=O)[C@@H](N2CCc3cn(Cc4ccccc4)nc3C2=O)COc2...</td>\n",
       "      <td>active</td>\n",
       "      <td>402.454</td>\n",
       "      <td>2.35370</td>\n",
       "      <td>0</td>\n",
       "      <td>5</td>\n",
       "      <td>6.000000</td>\n",
       "    </tr>\n",
       "    <tr>\n",
       "      <th>9016</th>\n",
       "      <td>CHEMBL4549667</td>\n",
       "      <td>CN1C(=O)[C@@H](N2CCc3c(nn(Cc4ccccc4)c3Br)C2=O)...</td>\n",
       "      <td>active</td>\n",
       "      <td>481.350</td>\n",
       "      <td>3.11620</td>\n",
       "      <td>0</td>\n",
       "      <td>5</td>\n",
       "      <td>6.000000</td>\n",
       "    </tr>\n",
       "    <tr>\n",
       "      <th>9017</th>\n",
       "      <td>CHEMBL4097778</td>\n",
       "      <td>CN1C(=O)[C@@H](N2CCc3cn(CC4CCS(=O)(=O)CC4)nc3C...</td>\n",
       "      <td>active</td>\n",
       "      <td>458.540</td>\n",
       "      <td>1.13020</td>\n",
       "      <td>0</td>\n",
       "      <td>7</td>\n",
       "      <td>6.000000</td>\n",
       "    </tr>\n",
       "  </tbody>\n",
       "</table>\n",
       "<p>9018 rows × 8 columns</p>\n",
       "</div>"
      ],
      "text/plain": [
       "     molecule_chembl_id                                   canonical_smiles  \\\n",
       "0           CHEMBL68920  Cc1cc(C)c(/C=C2\\C(=O)Nc3ncnc(Nc4ccc(F)c(Cl)c4)...   \n",
       "1           CHEMBL69960  Cc1cc(C(=O)N2CCOCC2)[nH]c1/C=C1\\C(=O)Nc2ncnc(N...   \n",
       "2          CHEMBL137635        CN(c1ccccc1)c1ncnc2ccc(N/N=N/Cc3ccccn3)cc12   \n",
       "3          CHEMBL306988             CC(=C(C#N)C#N)c1ccc(NC(=O)CCC(=O)O)cc1   \n",
       "4           CHEMBL66879                             O=C(O)/C=C/c1ccc(O)cc1   \n",
       "...                 ...                                                ...   \n",
       "9013      CHEMBL4520788  CNCc1ccccc1-c1csc([C@H](C)Nc2nc(C)nc3cc(OC)c(O...   \n",
       "9014      CHEMBL1800685  O=C(O)c1cc(-c2ccc(C3CCNCC3)cc2)c2ccc(-c3ccc(C(...   \n",
       "9015      CHEMBL4088216  CN1C(=O)[C@@H](N2CCc3cn(Cc4ccccc4)nc3C2=O)COc2...   \n",
       "9016      CHEMBL4549667  CN1C(=O)[C@@H](N2CCc3c(nn(Cc4ccccc4)c3Br)C2=O)...   \n",
       "9017      CHEMBL4097778  CN1C(=O)[C@@H](N2CCc3cn(CC4CCS(=O)(=O)CC4)nc3C...   \n",
       "\n",
       "             class       MW     LogP  NumHDonors  NumHAcceptors     pIC50  \n",
       "0           active  383.814  4.45034           3              4  7.387216  \n",
       "1           active  482.903  3.61432           3              6  6.769551  \n",
       "2     intermediate  369.432  4.77200           1              6  5.031517  \n",
       "3         inactive  283.287  2.31056           2              4  3.301030  \n",
       "4         inactive  164.160  1.49000           2              2  2.522879  \n",
       "...            ...      ...      ...         ...            ...       ...  \n",
       "9013        active  448.592  5.57642           2              7  7.698970  \n",
       "9014        active  475.510  7.35780           2              2  8.338187  \n",
       "9015        active  402.454  2.35370           0              5  6.000000  \n",
       "9016        active  481.350  3.11620           0              5  6.000000  \n",
       "9017        active  458.540  1.13020           0              7  6.000000  \n",
       "\n",
       "[9018 rows x 8 columns]"
      ]
     },
     "execution_count": 47,
     "metadata": {},
     "output_type": "execute_result"
    }
   ],
   "source": [
    "\n",
    "df_final = pIC50(df_combined)\n",
    "df_final"
   ]
  },
  {
   "cell_type": "code",
   "execution_count": 49,
   "id": "6706c82b",
   "metadata": {},
   "outputs": [
    {
     "data": {
      "text/plain": [
       "[<matplotlib.lines.Line2D at 0x7fad12cfef70>]"
      ]
     },
     "execution_count": 49,
     "metadata": {},
     "output_type": "execute_result"
    },
    {
     "data": {
      "image/png": "[encoded data removed]",
      "text/plain": [
       "<Figure size 640x480 with 1 Axes>"
      ]
     },
     "metadata": {},
     "output_type": "display_data"
    }
   ],
   "source": [
    "plt.plot(df_final.index, sorted(df_final.pIC50))"
   ]
  },
  {
   "cell_type": "code",
   "execution_count": 50,
   "id": "8044b540",
   "metadata": {},
   "outputs": [],
   "source": [
    "df_final.to_csv('EGFR_bioactivity_data_3class_pIC50.csv')"
   ]
  },
  {
   "attachments": {},
   "cell_type": "markdown",
   "id": "b2c25b1f",
   "metadata": {},
   "source": [
    "Finally, I removed 'intermediate' bioactivity class values."
   ]
  },
  {
   "cell_type": "code",
   "execution_count": 51,
   "id": "41596d26",
   "metadata": {},
   "outputs": [
    {
     "data": {
      "text/html": [
       "<div>\n",
       "<style scoped>\n",
       "    .dataframe tbody tr th:only-of-type {\n",
       "        vertical-align: middle;\n",
       "    }\n",
       "\n",
       "    .dataframe tbody tr th {\n",
       "        vertical-align: top;\n",
       "    }\n",
       "\n",
       "    .dataframe thead th {\n",
       "        text-align: right;\n",
       "    }\n",
       "</style>\n",
       "<table border=\"1\" class=\"dataframe\">\n",
       "  <thead>\n",
       "    <tr style=\"text-align: right;\">\n",
       "      <th></th>\n",
       "      <th>molecule_chembl_id</th>\n",
       "      <th>canonical_smiles</th>\n",
       "      <th>class</th>\n",
       "      <th>MW</th>\n",
       "      <th>LogP</th>\n",
       "      <th>NumHDonors</th>\n",
       "      <th>NumHAcceptors</th>\n",
       "      <th>pIC50</th>\n",
       "    </tr>\n",
       "  </thead>\n",
       "  <tbody>\n",
       "    <tr>\n",
       "      <th>0</th>\n",
       "      <td>CHEMBL68920</td>\n",
       "      <td>Cc1cc(C)c(/C=C2\\C(=O)Nc3ncnc(Nc4ccc(F)c(Cl)c4)...</td>\n",
       "      <td>active</td>\n",
       "      <td>383.814</td>\n",
       "      <td>4.45034</td>\n",
       "      <td>3</td>\n",
       "      <td>4</td>\n",
       "      <td>7.387216</td>\n",
       "    </tr>\n",
       "    <tr>\n",
       "      <th>1</th>\n",
       "      <td>CHEMBL69960</td>\n",
       "      <td>Cc1cc(C(=O)N2CCOCC2)[nH]c1/C=C1\\C(=O)Nc2ncnc(N...</td>\n",
       "      <td>active</td>\n",
       "      <td>482.903</td>\n",
       "      <td>3.61432</td>\n",
       "      <td>3</td>\n",
       "      <td>6</td>\n",
       "      <td>6.769551</td>\n",
       "    </tr>\n",
       "    <tr>\n",
       "      <th>3</th>\n",
       "      <td>CHEMBL306988</td>\n",
       "      <td>CC(=C(C#N)C#N)c1ccc(NC(=O)CCC(=O)O)cc1</td>\n",
       "      <td>inactive</td>\n",
       "      <td>283.287</td>\n",
       "      <td>2.31056</td>\n",
       "      <td>2</td>\n",
       "      <td>4</td>\n",
       "      <td>3.301030</td>\n",
       "    </tr>\n",
       "    <tr>\n",
       "      <th>4</th>\n",
       "      <td>CHEMBL66879</td>\n",
       "      <td>O=C(O)/C=C/c1ccc(O)cc1</td>\n",
       "      <td>inactive</td>\n",
       "      <td>164.160</td>\n",
       "      <td>1.49000</td>\n",
       "      <td>2</td>\n",
       "      <td>2</td>\n",
       "      <td>2.522879</td>\n",
       "    </tr>\n",
       "    <tr>\n",
       "      <th>5</th>\n",
       "      <td>CHEMBL77085</td>\n",
       "      <td>N#CC(C#N)=Cc1cc(O)ccc1[N+](=O)[O-]</td>\n",
       "      <td>inactive</td>\n",
       "      <td>215.168</td>\n",
       "      <td>1.73096</td>\n",
       "      <td>1</td>\n",
       "      <td>5</td>\n",
       "      <td>4.017729</td>\n",
       "    </tr>\n",
       "    <tr>\n",
       "      <th>...</th>\n",
       "      <td>...</td>\n",
       "      <td>...</td>\n",
       "      <td>...</td>\n",
       "      <td>...</td>\n",
       "      <td>...</td>\n",
       "      <td>...</td>\n",
       "      <td>...</td>\n",
       "      <td>...</td>\n",
       "    </tr>\n",
       "    <tr>\n",
       "      <th>9013</th>\n",
       "      <td>CHEMBL4520788</td>\n",
       "      <td>CNCc1ccccc1-c1csc([C@H](C)Nc2nc(C)nc3cc(OC)c(O...</td>\n",
       "      <td>active</td>\n",
       "      <td>448.592</td>\n",
       "      <td>5.57642</td>\n",
       "      <td>2</td>\n",
       "      <td>7</td>\n",
       "      <td>7.698970</td>\n",
       "    </tr>\n",
       "    <tr>\n",
       "      <th>9014</th>\n",
       "      <td>CHEMBL1800685</td>\n",
       "      <td>O=C(O)c1cc(-c2ccc(C3CCNCC3)cc2)c2ccc(-c3ccc(C(...</td>\n",
       "      <td>active</td>\n",
       "      <td>475.510</td>\n",
       "      <td>7.35780</td>\n",
       "      <td>2</td>\n",
       "      <td>2</td>\n",
       "      <td>8.338187</td>\n",
       "    </tr>\n",
       "    <tr>\n",
       "      <th>9015</th>\n",
       "      <td>CHEMBL4088216</td>\n",
       "      <td>CN1C(=O)[C@@H](N2CCc3cn(Cc4ccccc4)nc3C2=O)COc2...</td>\n",
       "      <td>active</td>\n",
       "      <td>402.454</td>\n",
       "      <td>2.35370</td>\n",
       "      <td>0</td>\n",
       "      <td>5</td>\n",
       "      <td>6.000000</td>\n",
       "    </tr>\n",
       "    <tr>\n",
       "      <th>9016</th>\n",
       "      <td>CHEMBL4549667</td>\n",
       "      <td>CN1C(=O)[C@@H](N2CCc3c(nn(Cc4ccccc4)c3Br)C2=O)...</td>\n",
       "      <td>active</td>\n",
       "      <td>481.350</td>\n",
       "      <td>3.11620</td>\n",
       "      <td>0</td>\n",
       "      <td>5</td>\n",
       "      <td>6.000000</td>\n",
       "    </tr>\n",
       "    <tr>\n",
       "      <th>9017</th>\n",
       "      <td>CHEMBL4097778</td>\n",
       "      <td>CN1C(=O)[C@@H](N2CCc3cn(CC4CCS(=O)(=O)CC4)nc3C...</td>\n",
       "      <td>active</td>\n",
       "      <td>458.540</td>\n",
       "      <td>1.13020</td>\n",
       "      <td>0</td>\n",
       "      <td>7</td>\n",
       "      <td>6.000000</td>\n",
       "    </tr>\n",
       "  </tbody>\n",
       "</table>\n",
       "<p>7634 rows × 8 columns</p>\n",
       "</div>"
      ],
      "text/plain": [
       "     molecule_chembl_id                                   canonical_smiles  \\\n",
       "0           CHEMBL68920  Cc1cc(C)c(/C=C2\\C(=O)Nc3ncnc(Nc4ccc(F)c(Cl)c4)...   \n",
       "1           CHEMBL69960  Cc1cc(C(=O)N2CCOCC2)[nH]c1/C=C1\\C(=O)Nc2ncnc(N...   \n",
       "3          CHEMBL306988             CC(=C(C#N)C#N)c1ccc(NC(=O)CCC(=O)O)cc1   \n",
       "4           CHEMBL66879                             O=C(O)/C=C/c1ccc(O)cc1   \n",
       "5           CHEMBL77085                 N#CC(C#N)=Cc1cc(O)ccc1[N+](=O)[O-]   \n",
       "...                 ...                                                ...   \n",
       "9013      CHEMBL4520788  CNCc1ccccc1-c1csc([C@H](C)Nc2nc(C)nc3cc(OC)c(O...   \n",
       "9014      CHEMBL1800685  O=C(O)c1cc(-c2ccc(C3CCNCC3)cc2)c2ccc(-c3ccc(C(...   \n",
       "9015      CHEMBL4088216  CN1C(=O)[C@@H](N2CCc3cn(Cc4ccccc4)nc3C2=O)COc2...   \n",
       "9016      CHEMBL4549667  CN1C(=O)[C@@H](N2CCc3c(nn(Cc4ccccc4)c3Br)C2=O)...   \n",
       "9017      CHEMBL4097778  CN1C(=O)[C@@H](N2CCc3cn(CC4CCS(=O)(=O)CC4)nc3C...   \n",
       "\n",
       "         class       MW     LogP  NumHDonors  NumHAcceptors     pIC50  \n",
       "0       active  383.814  4.45034           3              4  7.387216  \n",
       "1       active  482.903  3.61432           3              6  6.769551  \n",
       "3     inactive  283.287  2.31056           2              4  3.301030  \n",
       "4     inactive  164.160  1.49000           2              2  2.522879  \n",
       "5     inactive  215.168  1.73096           1              5  4.017729  \n",
       "...        ...      ...      ...         ...            ...       ...  \n",
       "9013    active  448.592  5.57642           2              7  7.698970  \n",
       "9014    active  475.510  7.35780           2              2  8.338187  \n",
       "9015    active  402.454  2.35370           0              5  6.000000  \n",
       "9016    active  481.350  3.11620           0              5  6.000000  \n",
       "9017    active  458.540  1.13020           0              7  6.000000  \n",
       "\n",
       "[7634 rows x 8 columns]"
      ]
     },
     "execution_count": 51,
     "metadata": {},
     "output_type": "execute_result"
    }
   ],
   "source": [
    "df_2class = df_final[df_final['class'] != 'intermediate']\n",
    "df_2class"
   ]
  },
  {
   "cell_type": "code",
   "execution_count": 52,
   "id": "19e9239e",
   "metadata": {},
   "outputs": [],
   "source": [
    "df_2class.to_csv('EGFR_bioactivity_data_2class_pIC50.csv', index = False)"
   ]
  },
  {
   "attachments": {},
   "cell_type": "markdown",
   "id": "a8dcdfbc",
   "metadata": {},
   "source": [
    "## Exploratory Data Analysis (Chemical Space Analysis) via Lipinski descriptors\n"
   ]
  },
  {
   "cell_type": "code",
   "execution_count": 54,
   "id": "1f5e387d",
   "metadata": {},
   "outputs": [],
   "source": [
    "import seaborn as sns\n",
    "sns.set(style='ticks')"
   ]
  },
  {
   "cell_type": "markdown",
   "id": "9cf5209b",
   "metadata": {},
   "source": [
    "## Frequency plot of the 2 bioactivity classes"
   ]
  },
  {
   "cell_type": "code",
   "execution_count": 55,
   "id": "e601018b",
   "metadata": {},
   "outputs": [
    {
     "data": {
      "text/plain": [
       "Text(0, 0.5, 'Frequency')"
      ]
     },
     "execution_count": 55,
     "metadata": {},
     "output_type": "execute_result"
    },
    {
     "data": {
      "image/png": "[encoded data removed]",
      "text/plain": [
       "<Figure size 550x550 with 1 Axes>"
      ]
     },
     "metadata": {},
     "output_type": "display_data"
    }
   ],
   "source": [
    "plt.figure(figsize = (5.5, 5.5))\n",
    "\n",
    "sns.countplot(x = 'class', data=df_2class, edgecolor = 'black')\n",
    "\n",
    "plt.xlabel('Bioactivity class', fontsize = 14, fontweight = 'bold')\n",
    "plt.ylabel('Frequency', fontsize = 14, fontweight = 'bold')"
   ]
  },
  {
   "cell_type": "code",
   "execution_count": 56,
   "id": "71f30724",
   "metadata": {},
   "outputs": [
    {
     "data": {
      "text/plain": [
       "<matplotlib.legend.Legend at 0x7fad12d0a190>"
      ]
     },
     "execution_count": 56,
     "metadata": {},
     "output_type": "execute_result"
    },
    {
     "data": {
      "image/png": "[encoded data removed]",
      "text/plain": [
       "<Figure size 550x550 with 1 Axes>"
      ]
     },
     "metadata": {},
     "output_type": "display_data"
    }
   ],
   "source": [
    "plt.figure(figsize = (5.5, 5.5))\n",
    "\n",
    "sns.scatterplot(x = 'MW', y = 'LogP', data = df_2class, hue = 'class', size = 'pIC50', edgecolor = 'black', alpha = 0.7)\n",
    "\n",
    "plt.xlabel('MW', fontsize = 14, fontweight = 'bold')\n",
    "plt.ylabel('LogP', fontsize = 14, fontweight = 'bold')\n",
    "plt.legend(bbox_to_anchor = (1.05, 1), loc = 2, borderaxespad = 0)"
   ]
  },
  {
   "attachments": {},
   "cell_type": "markdown",
   "id": "9e38c3d0",
   "metadata": {},
   "source": [
    "## BOX PLOTS"
   ]
  },
  {
   "cell_type": "code",
   "execution_count": 67,
   "id": "9ddc555f",
   "metadata": {},
   "outputs": [],
   "source": [
    "def my_boxplot(data_frame, descriptor, verbose = False):\n",
    "    plt.figure(figsize = (5.5, 5.5))\n",
    "    \n",
    "    sns.boxplot(x = 'class', y = descriptor, data = data_frame)\n",
    "\n",
    "    plt.xlabel('Bioactivity class', fontsize = 14, fontweight = 'bold')\n",
    "    plt.ylabel(descriptor+' value', fontsize = 14, fontweight = 'bold')\n",
    "    \n"
   ]
  },
  {
   "attachments": {},
   "cell_type": "markdown",
   "id": "eceee2d8",
   "metadata": {},
   "source": [
    "## pIC50 value"
   ]
  },
  {
   "cell_type": "code",
   "execution_count": 69,
   "id": "a0a5c9bc",
   "metadata": {},
   "outputs": [
    {
     "data": {
      "image/png": "[encoded data removed]",
      "text/plain": [
       "<Figure size 550x550 with 1 Axes>"
      ]
     },
     "metadata": {},
     "output_type": "display_data"
    }
   ],
   "source": [
    "my_boxplot(df_2class, 'pIC50')"
   ]
  },
  {
   "attachments": {},
   "cell_type": "markdown",
   "id": "63d7cc0a",
   "metadata": {},
   "source": [
    "Statistical analysis by Mann-Whitney U Test"
   ]
  },
  {
   "cell_type": "code",
   "execution_count": 65,
   "id": "82666756",
   "metadata": {},
   "outputs": [],
   "source": [
    "def mannwhitney(data_frame, descriptor, verbose = False):\n",
    "  from numpy.random import seed\n",
    "  from numpy.random import randn\n",
    "  from scipy.stats import mannwhitneyu\n",
    "\n",
    "# seed the random number generator\n",
    "  seed(1)\n",
    "\n",
    "  active = data_frame.loc[data_frame['class'] == 'active', descriptor]\n",
    "  inactive = data_frame.loc[data_frame['class'] == 'inactive', descriptor]\n",
    "\n",
    "  stat, p = mannwhitneyu(active, inactive)\n",
    "\n",
    "# interpretation\n",
    "  alpha = 0.05\n",
    "  if p > alpha:\n",
    "    interpretation = 'Same distribution (fail to reject H0)'\n",
    "  else:\n",
    "    interpretation = 'Different distribution (reject H0)'\n",
    "  \n",
    "  results = pd.DataFrame({'Descriptor':descriptor,\n",
    "                          'Statistics':stat,\n",
    "                          'p':p,\n",
    "                          'alpha':alpha,\n",
    "                          'Interpretation':interpretation}, index=[0])\n",
    "\n",
    "  return results\n",
    "\n"
   ]
  },
  {
   "cell_type": "code",
   "execution_count": 66,
   "id": "b861f5dc",
   "metadata": {},
   "outputs": [
    {
     "data": {
      "text/html": [
       "<div>\n",
       "<style scoped>\n",
       "    .dataframe tbody tr th:only-of-type {\n",
       "        vertical-align: middle;\n",
       "    }\n",
       "\n",
       "    .dataframe tbody tr th {\n",
       "        vertical-align: top;\n",
       "    }\n",
       "\n",
       "    .dataframe thead th {\n",
       "        text-align: right;\n",
       "    }\n",
       "</style>\n",
       "<table border=\"1\" class=\"dataframe\">\n",
       "  <thead>\n",
       "    <tr style=\"text-align: right;\">\n",
       "      <th></th>\n",
       "      <th>Descriptor</th>\n",
       "      <th>Statistics</th>\n",
       "      <th>p</th>\n",
       "      <th>alpha</th>\n",
       "      <th>Interpretation</th>\n",
       "    </tr>\n",
       "  </thead>\n",
       "  <tbody>\n",
       "    <tr>\n",
       "      <th>0</th>\n",
       "      <td>pIC50</td>\n",
       "      <td>11257089.0</td>\n",
       "      <td>0.0</td>\n",
       "      <td>0.05</td>\n",
       "      <td>Different distribution (reject H0)</td>\n",
       "    </tr>\n",
       "  </tbody>\n",
       "</table>\n",
       "</div>"
      ],
      "text/plain": [
       "  Descriptor  Statistics    p  alpha                      Interpretation\n",
       "0      pIC50  11257089.0  0.0   0.05  Different distribution (reject H0)"
      ]
     },
     "execution_count": 66,
     "metadata": {},
     "output_type": "execute_result"
    }
   ],
   "source": [
    "mannwhitney(df_2class, 'pIC50')"
   ]
  },
  {
   "attachments": {},
   "cell_type": "markdown",
   "id": "95a71954",
   "metadata": {},
   "source": [
    "## MW value"
   ]
  },
  {
   "cell_type": "code",
   "execution_count": 70,
   "id": "5f8b60ed",
   "metadata": {},
   "outputs": [
    {
     "data": {
      "image/png": "[encoded data removed]",
      "text/plain": [
       "<Figure size 550x550 with 1 Axes>"
      ]
     },
     "metadata": {},
     "output_type": "display_data"
    }
   ],
   "source": [
    "my_boxplot(df_2class, 'MW')"
   ]
  },
  {
   "cell_type": "code",
   "execution_count": 71,
   "id": "c9ea1d66",
   "metadata": {},
   "outputs": [
    {
     "data": {
      "text/html": [
       "<div>\n",
       "<style scoped>\n",
       "    .dataframe tbody tr th:only-of-type {\n",
       "        vertical-align: middle;\n",
       "    }\n",
       "\n",
       "    .dataframe tbody tr th {\n",
       "        vertical-align: top;\n",
       "    }\n",
       "\n",
       "    .dataframe thead th {\n",
       "        text-align: right;\n",
       "    }\n",
       "</style>\n",
       "<table border=\"1\" class=\"dataframe\">\n",
       "  <thead>\n",
       "    <tr style=\"text-align: right;\">\n",
       "      <th></th>\n",
       "      <th>Descriptor</th>\n",
       "      <th>Statistics</th>\n",
       "      <th>p</th>\n",
       "      <th>alpha</th>\n",
       "      <th>Interpretation</th>\n",
       "    </tr>\n",
       "  </thead>\n",
       "  <tbody>\n",
       "    <tr>\n",
       "      <th>0</th>\n",
       "      <td>MW</td>\n",
       "      <td>8028989.5</td>\n",
       "      <td>5.653377e-177</td>\n",
       "      <td>0.05</td>\n",
       "      <td>Different distribution (reject H0)</td>\n",
       "    </tr>\n",
       "  </tbody>\n",
       "</table>\n",
       "</div>"
      ],
      "text/plain": [
       "  Descriptor  Statistics              p  alpha  \\\n",
       "0         MW   8028989.5  5.653377e-177   0.05   \n",
       "\n",
       "                       Interpretation  \n",
       "0  Different distribution (reject H0)  "
      ]
     },
     "execution_count": 71,
     "metadata": {},
     "output_type": "execute_result"
    }
   ],
   "source": [
    "mannwhitney(df_2class, 'MW')"
   ]
  },
  {
   "attachments": {},
   "cell_type": "markdown",
   "id": "dce6e633",
   "metadata": {},
   "source": [
    "## LogP value"
   ]
  },
  {
   "cell_type": "code",
   "execution_count": 72,
   "id": "15d74cc1",
   "metadata": {},
   "outputs": [
    {
     "data": {
      "image/png": "[encoded data removed]",
      "text/plain": [
       "<Figure size 550x550 with 1 Axes>"
      ]
     },
     "metadata": {},
     "output_type": "display_data"
    }
   ],
   "source": [
    "my_boxplot(df_2class, 'LogP')"
   ]
  },
  {
   "cell_type": "code",
   "execution_count": 73,
   "id": "7c1d2525",
   "metadata": {},
   "outputs": [
    {
     "data": {
      "text/html": [
       "<div>\n",
       "<style scoped>\n",
       "    .dataframe tbody tr th:only-of-type {\n",
       "        vertical-align: middle;\n",
       "    }\n",
       "\n",
       "    .dataframe tbody tr th {\n",
       "        vertical-align: top;\n",
       "    }\n",
       "\n",
       "    .dataframe thead th {\n",
       "        text-align: right;\n",
       "    }\n",
       "</style>\n",
       "<table border=\"1\" class=\"dataframe\">\n",
       "  <thead>\n",
       "    <tr style=\"text-align: right;\">\n",
       "      <th></th>\n",
       "      <th>Descriptor</th>\n",
       "      <th>Statistics</th>\n",
       "      <th>p</th>\n",
       "      <th>alpha</th>\n",
       "      <th>Interpretation</th>\n",
       "    </tr>\n",
       "  </thead>\n",
       "  <tbody>\n",
       "    <tr>\n",
       "      <th>0</th>\n",
       "      <td>LogP</td>\n",
       "      <td>7057124.5</td>\n",
       "      <td>6.293608e-64</td>\n",
       "      <td>0.05</td>\n",
       "      <td>Different distribution (reject H0)</td>\n",
       "    </tr>\n",
       "  </tbody>\n",
       "</table>\n",
       "</div>"
      ],
      "text/plain": [
       "  Descriptor  Statistics             p  alpha  \\\n",
       "0       LogP   7057124.5  6.293608e-64   0.05   \n",
       "\n",
       "                       Interpretation  \n",
       "0  Different distribution (reject H0)  "
      ]
     },
     "execution_count": 73,
     "metadata": {},
     "output_type": "execute_result"
    }
   ],
   "source": [
    "mannwhitney(df_2class, 'LogP')"
   ]
  },
  {
   "attachments": {},
   "cell_type": "markdown",
   "id": "13d72900",
   "metadata": {},
   "source": [
    "## NumHDonors value"
   ]
  },
  {
   "cell_type": "code",
   "execution_count": 74,
   "id": "e6973b7a",
   "metadata": {},
   "outputs": [
    {
     "data": {
      "image/png": "[encoded data removed]",
      "text/plain": [
       "<Figure size 550x550 with 1 Axes>"
      ]
     },
     "metadata": {},
     "output_type": "display_data"
    }
   ],
   "source": [
    "my_boxplot(df_2class, 'NumHDonors')"
   ]
  },
  {
   "cell_type": "code",
   "execution_count": 75,
   "id": "4ee7988e",
   "metadata": {},
   "outputs": [
    {
     "data": {
      "text/html": [
       "<div>\n",
       "<style scoped>\n",
       "    .dataframe tbody tr th:only-of-type {\n",
       "        vertical-align: middle;\n",
       "    }\n",
       "\n",
       "    .dataframe tbody tr th {\n",
       "        vertical-align: top;\n",
       "    }\n",
       "\n",
       "    .dataframe thead th {\n",
       "        text-align: right;\n",
       "    }\n",
       "</style>\n",
       "<table border=\"1\" class=\"dataframe\">\n",
       "  <thead>\n",
       "    <tr style=\"text-align: right;\">\n",
       "      <th></th>\n",
       "      <th>Descriptor</th>\n",
       "      <th>Statistics</th>\n",
       "      <th>p</th>\n",
       "      <th>alpha</th>\n",
       "      <th>Interpretation</th>\n",
       "    </tr>\n",
       "  </thead>\n",
       "  <tbody>\n",
       "    <tr>\n",
       "      <th>0</th>\n",
       "      <td>NumHDonors</td>\n",
       "      <td>6195684.0</td>\n",
       "      <td>1.585587e-12</td>\n",
       "      <td>0.05</td>\n",
       "      <td>Different distribution (reject H0)</td>\n",
       "    </tr>\n",
       "  </tbody>\n",
       "</table>\n",
       "</div>"
      ],
      "text/plain": [
       "   Descriptor  Statistics             p  alpha  \\\n",
       "0  NumHDonors   6195684.0  1.585587e-12   0.05   \n",
       "\n",
       "                       Interpretation  \n",
       "0  Different distribution (reject H0)  "
      ]
     },
     "execution_count": 75,
     "metadata": {},
     "output_type": "execute_result"
    }
   ],
   "source": [
    "mannwhitney(df_2class, 'NumHDonors')"
   ]
  },
  {
   "attachments": {},
   "cell_type": "markdown",
   "id": "353ece55",
   "metadata": {},
   "source": [
    "## NumHAcceptors value"
   ]
  },
  {
   "cell_type": "code",
   "execution_count": 76,
   "id": "de21e504",
   "metadata": {},
   "outputs": [
    {
     "data": {
      "image/png": "[encoded data removed]",
      "text/plain": [
       "<Figure size 550x550 with 1 Axes>"
      ]
     },
     "metadata": {},
     "output_type": "display_data"
    }
   ],
   "source": [
    "my_boxplot(df_2class, 'NumHAcceptors')"
   ]
  },
  {
   "cell_type": "code",
   "execution_count": 77,
   "id": "731d3905",
   "metadata": {},
   "outputs": [
    {
     "data": {
      "text/html": [
       "<div>\n",
       "<style scoped>\n",
       "    .dataframe tbody tr th:only-of-type {\n",
       "        vertical-align: middle;\n",
       "    }\n",
       "\n",
       "    .dataframe tbody tr th {\n",
       "        vertical-align: top;\n",
       "    }\n",
       "\n",
       "    .dataframe thead th {\n",
       "        text-align: right;\n",
       "    }\n",
       "</style>\n",
       "<table border=\"1\" class=\"dataframe\">\n",
       "  <thead>\n",
       "    <tr style=\"text-align: right;\">\n",
       "      <th></th>\n",
       "      <th>Descriptor</th>\n",
       "      <th>Statistics</th>\n",
       "      <th>p</th>\n",
       "      <th>alpha</th>\n",
       "      <th>Interpretation</th>\n",
       "    </tr>\n",
       "  </thead>\n",
       "  <tbody>\n",
       "    <tr>\n",
       "      <th>0</th>\n",
       "      <td>NumHAcceptors</td>\n",
       "      <td>7830320.5</td>\n",
       "      <td>2.437614e-152</td>\n",
       "      <td>0.05</td>\n",
       "      <td>Different distribution (reject H0)</td>\n",
       "    </tr>\n",
       "  </tbody>\n",
       "</table>\n",
       "</div>"
      ],
      "text/plain": [
       "      Descriptor  Statistics              p  alpha  \\\n",
       "0  NumHAcceptors   7830320.5  2.437614e-152   0.05   \n",
       "\n",
       "                       Interpretation  \n",
       "0  Different distribution (reject H0)  "
      ]
     },
     "execution_count": 77,
     "metadata": {},
     "output_type": "execute_result"
    }
   ],
   "source": [
    "mannwhitney(df_2class, 'NumHAcceptors')"
   ]
  },
  {
   "attachments": {},
   "cell_type": "markdown",
   "id": "ab19e303",
   "metadata": {},
   "source": [
    "## Results interpretation\n",
    "\n",
    "### Box Plots\n",
    "#### pIC50\n",
    "I was expecting for pIC50 anctive and inactive values to be significantly different since I exluded 'intermediate' values\n",
    "#### Lipinski's descriptors\n",
    "All of the 4 Lipinski's descriptors exhibited statistically significant difference between the actives and inactives."
   ]
  }
 ],
 "metadata": {
  "kernelspec": {
   "display_name": "Python 3",
   "language": "python",
   "name": "python3"
  },
  "language_info": {
   "codemirror_mode": {
    "name": "ipython",
    "version": 3
   },
   "file_extension": ".py",
   "mimetype": "text/x-python",
   "name": "python",
   "nbconvert_exporter": "python",
   "pygments_lexer": "ipython3",
   "version": "3.9.13 (main, Aug 25 2022, 23:26:10) \n[GCC 11.2.0]"
  },
  "vscode": {
   "interpreter": {
    "hash": "b11c1e8e0d27834dc1be44a3426a3e491421032408bcfe7fb05874f0717ceb3e"
   }
  }
 },
 "nbformat": 4,
 "nbformat_minor": 5
}
